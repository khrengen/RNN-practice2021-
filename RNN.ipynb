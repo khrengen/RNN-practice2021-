{
 "cells": [
  {
   "cell_type": "markdown",
   "id": "3a1f23aa",
   "metadata": {},
   "source": [
    "# Рекуррентная нейронная сеть для генерации текста"
   ]
  },
  {
   "cell_type": "code",
   "execution_count": 2,
   "id": "e4b3c2cf",
   "metadata": {},
   "outputs": [],
   "source": [
    "import numpy as np\n",
    "import sys\n",
    "from keras.models import Sequential\n",
    "from keras.layers import Dense\n",
    "from keras.layers import Dropout\n",
    "from keras.layers import LSTM\n",
    "from keras.callbacks import ModelCheckpoint\n",
    "from keras.utils import np_utils\n",
    "import matplotlib.pyplot as plt"
   ]
  },
  {
   "cell_type": "markdown",
   "id": "32268d79",
   "metadata": {},
   "source": [
    "проверка, можно ли использовать GPU"
   ]
  },
  {
   "cell_type": "code",
   "execution_count": 30,
   "id": "22882ca7",
   "metadata": {},
   "outputs": [
    {
     "data": {
      "text/plain": [
       "[PhysicalDevice(name='/physical_device:GPU:0', device_type='GPU')]"
      ]
     },
     "execution_count": 30,
     "metadata": {},
     "output_type": "execute_result"
    }
   ],
   "source": [
    "import tensorflow as tf\n",
    "tf.config.experimental.list_physical_devices('GPU')"
   ]
  },
  {
   "cell_type": "markdown",
   "id": "857cd200",
   "metadata": {},
   "source": [
    "загрузка текста, не забудьте указать пути к файлам"
   ]
  },
  {
   "cell_type": "code",
   "execution_count": 97,
   "id": "4d3c2ed8",
   "metadata": {
    "scrolled": true
   },
   "outputs": [],
   "source": [
    "#filename = \"crimeAndPunishment.txt\"\n",
    "#filename = \"Nosov.txt\"\n",
    "filename = \"Alice.txt\"\n",
    "text = open(filename).read()\n",
    "#text = open(filename, 'r', encoding='utf-8').read() - for russian\n",
    "text = text.lower()\n",
    "text = text.replace(\"\\n\", \" \")"
   ]
  },
  {
   "cell_type": "markdown",
   "id": "f9d361dd",
   "metadata": {},
   "source": [
    "создаем словарь символов"
   ]
  },
  {
   "cell_type": "code",
   "execution_count": 98,
   "id": "167bd2ec",
   "metadata": {
    "scrolled": false
   },
   "outputs": [
    {
     "name": "stdout",
     "output_type": "stream",
     "text": [
      "Total Characters:  144309\n",
      "Total Vocab:  42\n"
     ]
    }
   ],
   "source": [
    "chars = sorted(list(set(text)))\n",
    "char_to_int = dict((c, i) for i, c in enumerate(chars))\n",
    "int_to_char = dict((i, c) for i, c in enumerate(chars))\n",
    "n_chars = len(text)\n",
    "n_vocab = len(chars)\n",
    "print (\"Total Characters: \", n_chars)\n",
    "print (\"Total Vocab: \", n_vocab)"
   ]
  },
  {
   "cell_type": "markdown",
   "id": "e5ec5be7",
   "metadata": {},
   "source": [
    "подготовка датасета, нормализация"
   ]
  },
  {
   "cell_type": "code",
   "execution_count": 99,
   "id": "7f30a4fa",
   "metadata": {},
   "outputs": [
    {
     "name": "stdout",
     "output_type": "stream",
     "text": [
      "Total Patterns:  144209\n"
     ]
    }
   ],
   "source": [
    "seq_length = 100\n",
    "dataX = []\n",
    "dataY = []\n",
    "for i in range(0, n_chars - seq_length, 1):\n",
    "    seq_in = text[i:i + seq_length]\n",
    "    seq_out = text[i + seq_length]\n",
    "    dataX.append([char_to_int[char] for char in seq_in])\n",
    "    dataY.append(char_to_int[seq_out])\n",
    "n_patterns = len(dataX)\n",
    "print(\"Total Patterns: \", n_patterns)\n",
    "\n",
    "X = np.reshape(dataX, (n_patterns, seq_length, 1))\n",
    "X = X / float(n_vocab)\n",
    "y = np_utils.to_categorical(dataY)"
   ]
  },
  {
   "cell_type": "markdown",
   "id": "7b16f66b",
   "metadata": {},
   "source": [
    "функция для мягкой генерации с использованием температуры"
   ]
  },
  {
   "cell_type": "code",
   "execution_count": 111,
   "id": "a640984a",
   "metadata": {},
   "outputs": [],
   "source": [
    "def sample(preds, temperature=1.0):\n",
    "    # helper function to sample an index from a probability array\n",
    "    preds = np.asarray(preds).astype(\"float64\")\n",
    "    preds = np.log(preds) / temperature\n",
    "    exp_preds = np.exp(preds)\n",
    "    preds = exp_preds / np.sum(exp_preds)\n",
    "    probas = np.random.multinomial(1, preds, 1)\n",
    "    return np.argmax(probas)"
   ]
  },
  {
   "cell_type": "markdown",
   "id": "a3f446ea",
   "metadata": {},
   "source": [
    "добаление чекпойнтов "
   ]
  },
  {
   "cell_type": "code",
   "execution_count": 101,
   "id": "fc4b6072",
   "metadata": {},
   "outputs": [],
   "source": [
    "filepath=\"weights-improvement-{epoch:02d}-{loss:.4f}.hdf5\"\n",
    "checkpoint = ModelCheckpoint(filepath, monitor='loss', verbose=1, save_best_only=True, mode='min')\n",
    "callbacks_list = [checkpoint]"
   ]
  },
  {
   "cell_type": "markdown",
   "id": "01350a03",
   "metadata": {},
   "source": [
    "определяем модель рекурентной нейронной сети"
   ]
  },
  {
   "cell_type": "code",
   "execution_count": 102,
   "id": "cdfcd93d",
   "metadata": {},
   "outputs": [
    {
     "name": "stdout",
     "output_type": "stream",
     "text": [
      "Model: \"sequential_2\"\n",
      "_________________________________________________________________\n",
      "Layer (type)                 Output Shape              Param #   \n",
      "=================================================================\n",
      "lstm_3 (LSTM)                (None, 100, 128)          66560     \n",
      "_________________________________________________________________\n",
      "dropout_3 (Dropout)          (None, 100, 128)          0         \n",
      "_________________________________________________________________\n",
      "lstm_4 (LSTM)                (None, 100, 256)          394240    \n",
      "_________________________________________________________________\n",
      "dropout_4 (Dropout)          (None, 100, 256)          0         \n",
      "_________________________________________________________________\n",
      "lstm_5 (LSTM)                (None, 256)               525312    \n",
      "_________________________________________________________________\n",
      "dropout_5 (Dropout)          (None, 256)               0         \n",
      "_________________________________________________________________\n",
      "dense_1 (Dense)              (None, 42)                10794     \n",
      "=================================================================\n",
      "Total params: 996,906\n",
      "Trainable params: 996,906\n",
      "Non-trainable params: 0\n",
      "_________________________________________________________________\n",
      "None\n"
     ]
    }
   ],
   "source": [
    "model = Sequential()\n",
    "model.add(LSTM(128, input_shape=(X.shape[1], X.shape[2]), return_sequences=True))\n",
    "model.add(Dropout(0.1))\n",
    "model.add(LSTM(256, return_sequences=True))\n",
    "model.add(Dropout(0.2))\n",
    "model.add(LSTM(256))\n",
    "model.add(Dropout(0.2))\n",
    "model.add(Dense(y.shape[1], activation='softmax'))\n",
    "model.compile(loss='categorical_crossentropy', optimizer='adam')\n",
    "\n",
    "print(model.summary())"
   ]
  },
  {
   "cell_type": "markdown",
   "id": "97735687",
   "metadata": {},
   "source": [
    "обучение нейросети"
   ]
  },
  {
   "cell_type": "code",
   "execution_count": 147,
   "id": "11ce618b",
   "metadata": {},
   "outputs": [
    {
     "name": "stdout",
     "output_type": "stream",
     "text": [
      "Epoch 1/8\n",
      "1127/1127 [==============================] - 50s 44ms/step - loss: 0.9064\n",
      "\n",
      "Epoch 00001: loss improved from 0.91002 to 0.90636, saving model to weights-improvement-01-0.9064.hdf5\n",
      "Epoch 2/8\n",
      "1127/1127 [==============================] - 50s 45ms/step - loss: 0.9039\n",
      "\n",
      "Epoch 00002: loss improved from 0.90636 to 0.90388, saving model to weights-improvement-02-0.9039.hdf5\n",
      "Epoch 3/8\n",
      "1127/1127 [==============================] - 50s 45ms/step - loss: 0.8994\n",
      "\n",
      "Epoch 00003: loss improved from 0.90388 to 0.89940, saving model to weights-improvement-03-0.8994.hdf5\n",
      "Epoch 4/8\n",
      "1127/1127 [==============================] - 50s 45ms/step - loss: 0.8931\n",
      "\n",
      "Epoch 00004: loss improved from 0.89940 to 0.89315, saving model to weights-improvement-04-0.8931.hdf5\n",
      "Epoch 5/8\n",
      "1127/1127 [==============================] - 51s 45ms/step - loss: 0.8938\n",
      "\n",
      "Epoch 00005: loss did not improve from 0.89315\n",
      "Epoch 6/8\n",
      "1127/1127 [==============================] - 51s 45ms/step - loss: 0.8888\n",
      "\n",
      "Epoch 00006: loss improved from 0.89315 to 0.88879, saving model to weights-improvement-06-0.8888.hdf5\n",
      "Epoch 7/8\n",
      "1127/1127 [==============================] - 51s 46ms/step - loss: 0.8844\n",
      "\n",
      "Epoch 00007: loss improved from 0.88879 to 0.88439, saving model to weights-improvement-07-0.8844.hdf5\n",
      "Epoch 8/8\n",
      "1127/1127 [==============================] - 51s 45ms/step - loss: 0.8809\n",
      "\n",
      "Epoch 00008: loss improved from 0.88439 to 0.88092, saving model to weights-improvement-08-0.8809.hdf5\n"
     ]
    }
   ],
   "source": [
    "history = model.fit(X, y, epochs=8, batch_size=128, callbacks=callbacks_list)"
   ]
  },
  {
   "cell_type": "markdown",
   "id": "43b9ecef",
   "metadata": {},
   "source": [
    "графики обучения"
   ]
  },
  {
   "cell_type": "code",
   "execution_count": 105,
   "id": "6b2361ba",
   "metadata": {},
   "outputs": [
    {
     "data": {
      "image/png": "[encoded data removed]",
      "text/plain": [
       "<Figure size 432x288 with 1 Axes>"
      ]
     },
     "metadata": {
      "needs_background": "light"
     },
     "output_type": "display_data"
    }
   ],
   "source": [
    "plt.plot(history.history['loss'])\n",
    "plt.title('Model loss')\n",
    "plt.ylabel('Loss')\n",
    "plt.xlabel('Epoch')\n",
    "plt.legend(['Train'], loc='upper left')\n",
    "plt.show()"
   ]
  },
  {
   "cell_type": "markdown",
   "id": "043fe111",
   "metadata": {},
   "source": [
    "подгрузка модели по записанному чекпойнту"
   ]
  },
  {
   "cell_type": "code",
   "execution_count": 11,
   "id": "ddf3f878",
   "metadata": {},
   "outputs": [],
   "source": [
    "filename = \"weights-improvement-50-1.4621.hdf5\"\n",
    "model.load_weights(filename)\n",
    "model.compile(loss='categorical_crossentropy', optimizer='adam')"
   ]
  },
  {
   "cell_type": "markdown",
   "id": "70705022",
   "metadata": {},
   "source": [
    "генерация"
   ]
  },
  {
   "cell_type": "code",
   "execution_count": 152,
   "id": "0034e106",
   "metadata": {},
   "outputs": [
    {
     "name": "stdout",
     "output_type": "stream",
     "text": [
      "Seed:\n",
      "\" to a tidy little room with a table in the window, and on it (as she had hoped) a fan and two or thre \"\n",
      "e dares of the court.  'that was that in the sea,' the mock turtle seplied. 'it's very curinus,'  the mouse was sitting on the sop of her head inpatiently, and she went on again:--  'i haven't the shing,' said the mock turtle. ''not i!' alice replied in a tone of great curiosity.  'i should like to ...\n"
     ]
    }
   ],
   "source": [
    "start = np.random.randint(0, len(dataX)-1)\n",
    "pattern = dataX[start].copy()\n",
    "temperature = 0.01\n",
    "print (\"Seed:\")\n",
    "print (\"\\\"\", ''.join([int_to_char[value] for value in pattern]), \"\\\"\")\n",
    "# generate characters\n",
    "for i in range(300):\n",
    "    x = np.reshape(pattern, (1, len(pattern), 1))\n",
    "    x = x / float(n_vocab)\n",
    "    #prediction = model.predict(x, verbose=0)[0]\n",
    "    #index = sample(prediction, temperature)\n",
    "    prediction = model.predict(x, verbose=0)\n",
    "    index = np.argmax(prediction)\n",
    "    result = int_to_char[index]\n",
    "    seq_in = [int_to_char[value] for value in pattern]\n",
    "    sys.stdout.write(result)\n",
    "    pattern.append(index)\n",
    "    pattern = pattern[1:len(pattern)]\n",
    "print('...')"
   ]
  },
  {
   "cell_type": "markdown",
   "id": "48b87f07",
   "metadata": {},
   "source": [
    "Вывод: структура самого текста похожа на настоящий, практически все слова написаны правильно. Но смысла в сгенерированном тексте нет."
   ]
  }
 ],
 "metadata": {
  "kernelspec": {
   "display_name": "Python 3",
   "language": "python",
   "name": "python3"
  },
  "language_info": {
   "codemirror_mode": {
    "name": "ipython",
    "version": 3
   },
   "file_extension": ".py",
   "mimetype": "text/x-python",
   "name": "python",
   "nbconvert_exporter": "python",
   "pygments_lexer": "ipython3",
   "version": "3.8.10"
  }
 },
 "nbformat": 4,
 "nbformat_minor": 5
}
